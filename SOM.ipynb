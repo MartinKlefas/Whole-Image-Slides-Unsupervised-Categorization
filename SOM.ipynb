{
 "cells": [
  {
   "cell_type": "code",
   "execution_count": 1,
   "metadata": {},
   "outputs": [],
   "source": [
    "import numpy as np\n",
    "import os \n",
    "\n",
    "from PIL import Image\n",
    "\n",
    "import pandas as pd\n",
    "from minisom import MiniSom \n",
    "\n",
    "from sklearn.cluster import KMeans\n",
    "from skimage.color import rgb2hed\n",
    "from sklearn.preprocessing import StandardScaler\n",
    "from sklearn.decomposition import PCA\n",
    "\n",
    "import matplotlib.pyplot as plt \n",
    "%matplotlib inline"
   ]
  },
  {
   "cell_type": "code",
   "execution_count": 26,
   "metadata": {},
   "outputs": [],
   "source": [
    "def calculateMeanHE(image):\n",
    "    hedImage = rgb2hed(image) # hed is short for Hematox, Eosin, DAB\n",
    "    hemaValues = hedImage[:, :, 0]\n",
    "    eosValues = hedImage[:, :, 1]\n",
    "    return [hemaValues.mean(), eosValues.mean()]\n",
    "\n",
    "def calculateMeanRGB(image):\n",
    "    pixels = image.load()\n",
    "    width, height = image.size \n",
    "    num_pixels = width * height\n",
    "    r_mean = g_mean = b_mean = 0 \n",
    "    for i in range(width):\n",
    "        for j in range(height): \n",
    "            r,g,b=pixels[i,j] \n",
    "            r_mean += r\n",
    "            g_mean += g\n",
    "            b_mean += b\n",
    "    return [r_mean/num_pixels , g_mean/num_pixels , b_mean/num_pixels]\n",
    "\n",
    "def ClusterAndPlot(n_clusters):\n",
    "    HC = AgglomerativeClustering(n_clusters=n_clusters, affinity='manhattan', linkage='complete').fit(X)\n",
    "    print('HC Silhouette Score  {} '.format(metrics.silhouette_score(X, HC.labels_)))\n",
    "\n",
    "    kmeans = KMeans(n_clusters=n_clusters, random_state=0).fit(X)\n",
    "    print('kmeans Silhouette Score  {} '.format(metrics.silhouette_score(X, kmeans.labels_)))\n",
    "\n",
    "    gmm = GaussianMixture(n_components=n_clusters, covariance_type='full').fit(X)\n",
    "    gmmlabels_ = gmm.predict(X)\n",
    "    print('gmm Silhouette Score  {} '.format(metrics.silhouette_score(X, gmmlabels_)))\n",
    "    \n",
    "    fig, axs = plt.subplots(2, 2, figsize=(13, 7))\n",
    "    axs[0, 0].scatter(X[:, 0], X[:, 1], cmap='viridis');\n",
    "    axs[0, 0].set_title('Normal')\n",
    "\n",
    "    axs[0, 1].scatter(X[:, 0], X[:, 1], c=gmmlabels_, cmap='viridis');\n",
    "    axs[0, 1].set_title('GMM')\n",
    "\n",
    "    axs[1, 0].scatter(X[:, 0], X[:, 1], c=kmeans.labels_, cmap='viridis');\n",
    "    axs[1, 0].set_title('K-Means')\n",
    "\n",
    "    axs[1, 1].scatter(X[:, 0], X[:, 1], c=HC.labels_, cmap='viridis');\n",
    "    axs[1, 1].set_title('HC')\n",
    "    plt.show()\n",
    "    \n",
    "    return [HC.labels_, kmeans.labels_, gmmlabels_]\n",
    "\n",
    "def symlink_rel(src, dst):\n",
    "    rel_path_src = os.path.relpath(src, os.path.dirname(dst))\n",
    "    os.symlink(rel_path_src, dst)\n",
    "\n",
    "def clusterintoDirectories(labels):\n",
    "    directory = trainData\n",
    "    sub_directories = [str(cluster) for cluster in set(labels)]\n",
    "\n",
    "    for filename in os.listdir(directory):\n",
    "        if filename.endswith('.tif'):\n",
    "            for cluster in sub_directories: # count of distinct elements = no. of clusters\n",
    "                os.makedirs(directory + '/{}'.format(cluster) , exist_ok=True)\n",
    "\n",
    "    for i in range(len(image_names)):\n",
    "        # if there isnt already a symlink of this image in the coressponding subdirectory\n",
    "        if image_names[i] not in os.listdir(directory + '/' + sub_directories[labels[i]]): \n",
    "            symlink_rel(directory + '/{}'.format(image_names[i]) , \n",
    "                       directory + '/{}'.format(labels[i]) + '/' + image_names[i])\n",
    "\n",
    "def pltPathologyClusters(labels):\n",
    "    clusterimgDir = \"../Data/clusters_journal.PNG\"\n",
    "    image = Image.open(clusterimgDir) \n",
    "    plt.figure(figsize = (85,12))\n",
    "    plt.imshow(image)\n",
    "    plt.axis('off')\n",
    "    \n",
    "    sub_directories = [str(cluster) for cluster in set(labels)]\n",
    "    displayImages = []\n",
    "    mseList = []\n",
    "    valMse = []\n",
    "    \n",
    "    for cluster in sub_directories:\n",
    "        direct = trainData + '/{}'.format(cluster)\n",
    "        index = np.random.randint(9,len(os.listdir(direct))-9)\n",
    "        clusterList = []\n",
    "        for file in os.listdir(direct)[index:index+9]: # random sample of 9 images\n",
    "            if file.endswith('.tif'):\n",
    "                #image = Image.open(os.path.join(trainData, file)) \n",
    "                image = tifffile.imread(os.path.join(trainData, file))\n",
    "                clusterList.append(image)\n",
    "                displayImages.append(image)\n",
    "        mseList.append(clusterList)\n",
    "        \n",
    "#         print(mseList)\n",
    "#         print(\"Size of cluster {} is {}\".format(str(cluster),len(os.listdir(direct))))\n",
    "#         print(\"Taking images with the indices {} to {}\\n\".format(index, index+9))\n",
    "    for clusterRow in mseList:\n",
    "        Sum = 0\n",
    "        for i in range(0,7,2):\n",
    "            val = compare_mse(clusterRow[i], clusterRow[i+1])\n",
    "            Sum += val\n",
    "        valMse.append(math.ceil(Sum / 4))\n",
    "            \n",
    "    \n",
    "    fig = plt.figure(figsize=(14, 14))\n",
    "    \n",
    "    columns = 9\n",
    "    rows = len(sub_directories)\n",
    "    print(len(displayImages))\n",
    "    print(columns*rows+1)\n",
    "    for i in range(1, columns*rows+1):\n",
    "        img = displayImages[i-1]\n",
    "        fig.add_subplot(rows, columns, i)\n",
    "        plt.imshow(img)\n",
    "        plt.axis('off')\n",
    "        plt.subplots_adjust(wspace=0.0, hspace=0.0)\n",
    "#     plt.show()\n",
    "    \n",
    "    return valMse\n",
    "\n"
   ]
  },
  {
   "cell_type": "code",
   "execution_count": 5,
   "metadata": {},
   "outputs": [],
   "source": [
    "directory = \"../Data/train\"\n",
    "valuesList = []\n",
    "\n",
    "for filename in os.listdir(directory):\n",
    "    if filename.endswith('.tif'):\n",
    "        image = Image.open(os.path.join(directory, filename)) \n",
    "        valuesList.append(np.asarray( image, dtype=\"uint8\" ))\n",
    "        \n"
   ]
  },
  {
   "cell_type": "code",
   "execution_count": 6,
   "metadata": {},
   "outputs": [
    {
     "data": {
      "text/plain": [
       "(9999, 96, 96, 3)"
      ]
     },
     "execution_count": 6,
     "metadata": {},
     "output_type": "execute_result"
    }
   ],
   "source": [
    "meanMatrix = np.asarray(valuesList)\n",
    "\n",
    "meanMatrix.shape"
   ]
  },
  {
   "cell_type": "code",
   "execution_count": 8,
   "metadata": {},
   "outputs": [
    {
     "ename": "ValueError",
     "evalue": "operands could not be broadcast together with shapes (96,96,3) (96,96,96) ",
     "output_type": "error",
     "traceback": [
      "\u001b[0;31m---------------------------------------------------------------------------\u001b[0m",
      "\u001b[0;31mValueError\u001b[0m                                Traceback (most recent call last)",
      "\u001b[0;32m<ipython-input-8-b5a49bd39234>\u001b[0m in \u001b[0;36m<module>\u001b[0;34m\u001b[0m\n\u001b[1;32m      1\u001b[0m \u001b[0msom\u001b[0m \u001b[0;34m=\u001b[0m \u001b[0mMiniSom\u001b[0m\u001b[0;34m(\u001b[0m\u001b[0mmeanMatrix\u001b[0m\u001b[0;34m.\u001b[0m\u001b[0mshape\u001b[0m\u001b[0;34m[\u001b[0m\u001b[0;36m1\u001b[0m\u001b[0;34m]\u001b[0m\u001b[0;34m,\u001b[0m \u001b[0mmeanMatrix\u001b[0m\u001b[0;34m.\u001b[0m\u001b[0mshape\u001b[0m\u001b[0;34m[\u001b[0m\u001b[0;36m2\u001b[0m\u001b[0;34m]\u001b[0m\u001b[0;34m,\u001b[0m \u001b[0;36m96\u001b[0m\u001b[0;34m,\u001b[0m \u001b[0msigma\u001b[0m\u001b[0;34m=\u001b[0m\u001b[0;36m0.3\u001b[0m\u001b[0;34m,\u001b[0m \u001b[0mlearning_rate\u001b[0m\u001b[0;34m=\u001b[0m\u001b[0;36m0.5\u001b[0m\u001b[0;34m)\u001b[0m \u001b[0;31m# initialization of 6x6 SOM\u001b[0m\u001b[0;34m\u001b[0m\u001b[0m\n\u001b[0;32m----> 2\u001b[0;31m \u001b[0msom\u001b[0m\u001b[0;34m.\u001b[0m\u001b[0mtrain_random\u001b[0m\u001b[0;34m(\u001b[0m\u001b[0mmeanMatrix\u001b[0m\u001b[0;34m,\u001b[0m \u001b[0;36m100\u001b[0m\u001b[0;34m)\u001b[0m \u001b[0;31m# trains the SOM with 100 iterations\u001b[0m\u001b[0;34m\u001b[0m\u001b[0m\n\u001b[0m",
      "\u001b[0;32m/Library/Frameworks/Python.framework/Versions/3.6/lib/python3.6/site-packages/minisom.py\u001b[0m in \u001b[0;36mtrain_random\u001b[0;34m(self, data, num_iteration, verbose)\u001b[0m\n\u001b[1;32m    351\u001b[0m             \u001b[0mwill\u001b[0m \u001b[0mbe\u001b[0m \u001b[0mprinted\u001b[0m \u001b[0mat\u001b[0m \u001b[0meach\u001b[0m \u001b[0miteration\u001b[0m\u001b[0;34m.\u001b[0m\u001b[0;34m\u001b[0m\u001b[0m\n\u001b[1;32m    352\u001b[0m         \"\"\"\n\u001b[0;32m--> 353\u001b[0;31m         \u001b[0mself\u001b[0m\u001b[0;34m.\u001b[0m\u001b[0mtrain\u001b[0m\u001b[0;34m(\u001b[0m\u001b[0mdata\u001b[0m\u001b[0;34m,\u001b[0m \u001b[0mnum_iteration\u001b[0m\u001b[0;34m,\u001b[0m \u001b[0mrandom_order\u001b[0m\u001b[0;34m=\u001b[0m\u001b[0;32mTrue\u001b[0m\u001b[0;34m,\u001b[0m \u001b[0mverbose\u001b[0m\u001b[0;34m=\u001b[0m\u001b[0mverbose\u001b[0m\u001b[0;34m)\u001b[0m\u001b[0;34m\u001b[0m\u001b[0m\n\u001b[0m\u001b[1;32m    354\u001b[0m \u001b[0;34m\u001b[0m\u001b[0m\n\u001b[1;32m    355\u001b[0m     \u001b[0;32mdef\u001b[0m \u001b[0mtrain_batch\u001b[0m\u001b[0;34m(\u001b[0m\u001b[0mself\u001b[0m\u001b[0;34m,\u001b[0m \u001b[0mdata\u001b[0m\u001b[0;34m,\u001b[0m \u001b[0mnum_iteration\u001b[0m\u001b[0;34m,\u001b[0m \u001b[0mverbose\u001b[0m\u001b[0;34m=\u001b[0m\u001b[0;32mFalse\u001b[0m\u001b[0;34m)\u001b[0m\u001b[0;34m:\u001b[0m\u001b[0;34m\u001b[0m\u001b[0m\n",
      "\u001b[0;32m/Library/Frameworks/Python.framework/Versions/3.6/lib/python3.6/site-packages/minisom.py\u001b[0m in \u001b[0;36mtrain\u001b[0;34m(self, data, num_iteration, random_order, verbose)\u001b[0m\n\u001b[1;32m    330\u001b[0m                                               verbose, random_generator)\n\u001b[1;32m    331\u001b[0m         \u001b[0;32mfor\u001b[0m \u001b[0mt\u001b[0m\u001b[0;34m,\u001b[0m \u001b[0miteration\u001b[0m \u001b[0;32min\u001b[0m \u001b[0menumerate\u001b[0m\u001b[0;34m(\u001b[0m\u001b[0miterations\u001b[0m\u001b[0;34m)\u001b[0m\u001b[0;34m:\u001b[0m\u001b[0;34m\u001b[0m\u001b[0m\n\u001b[0;32m--> 332\u001b[0;31m             self.update(data[iteration], self.winner(data[iteration]),\n\u001b[0m\u001b[1;32m    333\u001b[0m                         t, num_iteration)\n\u001b[1;32m    334\u001b[0m         \u001b[0;32mif\u001b[0m \u001b[0mverbose\u001b[0m\u001b[0;34m:\u001b[0m\u001b[0;34m\u001b[0m\u001b[0m\n",
      "\u001b[0;32m/Library/Frameworks/Python.framework/Versions/3.6/lib/python3.6/site-packages/minisom.py\u001b[0m in \u001b[0;36mwinner\u001b[0;34m(self, x)\u001b[0m\n\u001b[1;32m    237\u001b[0m     \u001b[0;32mdef\u001b[0m \u001b[0mwinner\u001b[0m\u001b[0;34m(\u001b[0m\u001b[0mself\u001b[0m\u001b[0;34m,\u001b[0m \u001b[0mx\u001b[0m\u001b[0;34m)\u001b[0m\u001b[0;34m:\u001b[0m\u001b[0;34m\u001b[0m\u001b[0m\n\u001b[1;32m    238\u001b[0m         \u001b[0;34m\"\"\"Computes the coordinates of the winning neuron for the sample x.\"\"\"\u001b[0m\u001b[0;34m\u001b[0m\u001b[0m\n\u001b[0;32m--> 239\u001b[0;31m         \u001b[0mself\u001b[0m\u001b[0;34m.\u001b[0m\u001b[0m_activate\u001b[0m\u001b[0;34m(\u001b[0m\u001b[0mx\u001b[0m\u001b[0;34m)\u001b[0m\u001b[0;34m\u001b[0m\u001b[0m\n\u001b[0m\u001b[1;32m    240\u001b[0m         return unravel_index(self._activation_map.argmin(),\n\u001b[1;32m    241\u001b[0m                              self._activation_map.shape)\n",
      "\u001b[0;32m/Library/Frameworks/Python.framework/Versions/3.6/lib/python3.6/site-packages/minisom.py\u001b[0m in \u001b[0;36m_activate\u001b[0;34m(self, x)\u001b[0m\n\u001b[1;32m    183\u001b[0m         \"\"\"Updates matrix activation_map, in this matrix\n\u001b[1;32m    184\u001b[0m            the element i,j is the response of the neuron i,j to x.\"\"\"\n\u001b[0;32m--> 185\u001b[0;31m         \u001b[0ms\u001b[0m \u001b[0;34m=\u001b[0m \u001b[0msubtract\u001b[0m\u001b[0;34m(\u001b[0m\u001b[0mx\u001b[0m\u001b[0;34m,\u001b[0m \u001b[0mself\u001b[0m\u001b[0;34m.\u001b[0m\u001b[0m_weights\u001b[0m\u001b[0;34m)\u001b[0m  \u001b[0;31m# x - w\u001b[0m\u001b[0;34m\u001b[0m\u001b[0m\n\u001b[0m\u001b[1;32m    186\u001b[0m         \u001b[0mself\u001b[0m\u001b[0;34m.\u001b[0m\u001b[0m_activation_map\u001b[0m \u001b[0;34m=\u001b[0m \u001b[0mlinalg\u001b[0m\u001b[0;34m.\u001b[0m\u001b[0mnorm\u001b[0m\u001b[0;34m(\u001b[0m\u001b[0ms\u001b[0m\u001b[0;34m,\u001b[0m \u001b[0maxis\u001b[0m\u001b[0;34m=\u001b[0m\u001b[0;34m-\u001b[0m\u001b[0;36m1\u001b[0m\u001b[0;34m)\u001b[0m\u001b[0;34m\u001b[0m\u001b[0m\n\u001b[1;32m    187\u001b[0m \u001b[0;34m\u001b[0m\u001b[0m\n",
      "\u001b[0;31mValueError\u001b[0m: operands could not be broadcast together with shapes (96,96,3) (96,96,96) "
     ]
    }
   ],
   "source": [
    "som = MiniSom(meanMatrix.shape[1], meanMatrix.shape[2], 96, sigma=0.3, learning_rate=0.5) # initialization of 6x6 SOM\n",
    "som.train_random(meanMatrix, 100) # trains the SOM with 100 iterations\n"
   ]
  },
  {
   "cell_type": "code",
   "execution_count": 28,
   "metadata": {},
   "outputs": [],
   "source": [
    "meanMatrix = np.asarray(valuesList)\n",
    "\n",
    "# Standardize the dataset by removing the mean and scaling to unit variance z =(x-u)/s\n",
    "scaler = StandardScaler()\n",
    "scaler.fit(meanMatrix)\n",
    "scaledData = scaler.transform(meanMatrix)\n",
    "\n",
    "# PCA \n",
    "pca = PCA(n_components=2)\n",
    "pca.fit(scaledData)\n",
    "transformedData = pca.transform(scaledData)\n",
    "\n",
    "# K-Means\n",
    "kmeans = KMeans(n_clusters=4, random_state=0).fit(transformedData)\n"
   ]
  },
  {
   "cell_type": "code",
   "execution_count": 29,
   "metadata": {},
   "outputs": [
    {
     "data": {
      "text/plain": [
       "Text(0, 0.5, 'PC2')"
      ]
     },
     "execution_count": 29,
     "metadata": {},
     "output_type": "execute_result"
    },
    {
     "data": {
      "image/png": "[encoded data removed]",
      "text/plain": [
       "<Figure size 432x288 with 1 Axes>"
      ]
     },
     "metadata": {
      "needs_background": "light"
     },
     "output_type": "display_data"
    }
   ],
   "source": [
    "plt.scatter(transformedData[:,0], transformedData[:,1], c=kmeans.labels_)\n",
    "\n",
    "# Show K-Means centers as red circles\n",
    "centers = kmeans.cluster_centers_\n",
    "plt.scatter(centers[:, 0], centers[:, 1], c='red', s=250, alpha=1);\n",
    "\n",
    "plt.title('PCA Graph')\n",
    "plt.xlabel('PC1', fontsize=22, color='yellow')\n",
    "plt.ylabel('PC2', fontsize=22, color='purple')"
   ]
  },
  {
   "cell_type": "code",
   "execution_count": null,
   "metadata": {},
   "outputs": [],
   "source": []
  },
  {
   "cell_type": "code",
   "execution_count": null,
   "metadata": {},
   "outputs": [],
   "source": []
  }
 ],
 "metadata": {
  "kernelspec": {
   "display_name": "Python 3.6",
   "language": "python",
   "name": "python3.6"
  },
  "language_info": {
   "codemirror_mode": {
    "name": "ipython",
    "version": 3
   },
   "file_extension": ".py",
   "mimetype": "text/x-python",
   "name": "python",
   "nbconvert_exporter": "python",
   "pygments_lexer": "ipython3",
   "version": "3.6.2"
  }
 },
 "nbformat": 4,
 "nbformat_minor": 2
}
