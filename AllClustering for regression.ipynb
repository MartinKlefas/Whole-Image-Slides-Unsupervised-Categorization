{
 "cells": [
  {
   "cell_type": "code",
   "execution_count": 2,
   "metadata": {},
   "outputs": [
    {
     "name": "stderr",
     "output_type": "stream",
     "text": [
      "Using TensorFlow backend.\n"
     ]
    }
   ],
   "source": [
    "# Basics\n",
    "import numpy as np\n",
    "import os \n",
    "\n",
    "# Image Loading\n",
    "from PIL import Image\n",
    "import matplotlib.pyplot as plt \n",
    "%matplotlib inline\n",
    "\n",
    "# Evaluation\n",
    "from sklearn import metrics\n",
    "\n",
    "# Data preprocessing\n",
    "from sklearn.preprocessing import normalize, StandardScaler\n",
    "\n",
    "# Dimensionality Reduction\n",
    "from sklearn.manifold import TSNE                   # 1) T-SNE\n",
    "from sklearn.decomposition import PCA               # 2) PCA\n",
    "\n",
    "# Clustering\n",
    "from sklearn.cluster import AgglomerativeClustering # 1) Agglomerative-Hierarchical\n",
    "from sklearn.cluster import KMeans                  # 2) K-Means\n",
    "from sklearn.mixture import GaussianMixture         # 3) Gaussian Mixture Models\n",
    "\n",
    "# Load Autoencoder                                  # 3) Autoencoder (Deep dimensionality reduction)\n",
    "from keras.models import load_model\n",
    "from keras.models import Model"
   ]
  },
  {
   "cell_type": "code",
   "execution_count": 3,
   "metadata": {},
   "outputs": [],
   "source": [
    "## Data loading, and standardizing\n",
    "\n",
    "trainData = \"../Data/train\" # 10k images //  96 x 96 x 3\n",
    "\n",
    "new_train = []\n",
    "image_names = []\n",
    "\n",
    "# Test on 1000 images\n",
    "for filename in os.listdir(trainData):\n",
    "    if filename.endswith('.tif'):\n",
    "        image = Image.open(os.path.join(trainData, filename)) \n",
    "        new_train.append(np.asarray( image, dtype=\"uint8\" ))\n",
    "        image_names.append(filename)\n",
    "\n",
    "meanMatrix = np.asarray(new_train)\n",
    "X = meanMatrix.reshape((len(new_train),-1))\n",
    "scaler = StandardScaler()\n",
    "X = scaler.fit_transform(X)\n"
   ]
  },
  {
   "cell_type": "code",
   "execution_count": 4,
   "metadata": {},
   "outputs": [],
   "source": [
    "def ClusterAndPlot(n_clusters):\n",
    "    HC = AgglomerativeClustering(n_clusters=n_clusters, affinity='manhattan', linkage='complete').fit(X)\n",
    "    print('HC Silhouette Score  {} '.format(metrics.silhouette_score(X, HC.labels_)))\n",
    "\n",
    "    kmeans = KMeans(n_clusters=n_clusters, random_state=0).fit(X)\n",
    "    print('kmeans Silhouette Score  {} '.format(metrics.silhouette_score(X, kmeans.labels_)))\n",
    "\n",
    "    gmm = GaussianMixture(n_components=n_clusters, covariance_type='full').fit(X)\n",
    "    gmmlabels_ = gmm.predict(X)\n",
    "    print('gmm Silhouette Score  {} '.format(metrics.silhouette_score(X, gmmlabels_)))\n",
    "    \n",
    "    fig, axs = plt.subplots(2, 2, figsize=(13, 7))\n",
    "    axs[0, 0].scatter(X[:, 0], X[:, 1], cmap='viridis');\n",
    "    axs[0, 0].set_title('Normal')\n",
    "\n",
    "    axs[0, 1].scatter(X[:, 0], X[:, 1], c=gmmlabels_, cmap='viridis');\n",
    "    axs[0, 1].set_title('GMM')\n",
    "\n",
    "    axs[1, 0].scatter(X[:, 0], X[:, 1], c=kmeans.labels_, cmap='viridis');\n",
    "    axs[1, 0].set_title('K-Means')\n",
    "\n",
    "    axs[1, 1].scatter(X[:, 0], X[:, 1], c=HC.labels_, cmap='viridis');\n",
    "    axs[1, 1].set_title('HC')\n",
    "    plt.show()\n",
    "    \n",
    "    return [HC.labels_, kmeans.labels_, gmmlabels_]\n"
   ]
  },
  {
   "cell_type": "code",
   "execution_count": 5,
   "metadata": {},
   "outputs": [
    {
     "data": {
      "text/plain": [
       "(9999, 27648)"
      ]
     },
     "execution_count": 5,
     "metadata": {},
     "output_type": "execute_result"
    }
   ],
   "source": [
    "n_images = X.shape[0]\n",
    "X.shape"
   ]
  },
  {
   "cell_type": "code",
   "execution_count": 6,
   "metadata": {},
   "outputs": [
    {
     "data": {
      "text/plain": [
       "(9999, 96, 96, 3)"
      ]
     },
     "execution_count": 6,
     "metadata": {},
     "output_type": "execute_result"
    }
   ],
   "source": [
    "# Step 3: Reduce the full dimensional space using autoencoders -> Cluster\n",
    "meanMatrix.shape"
   ]
  },
  {
   "cell_type": "code",
   "execution_count": 7,
   "metadata": {},
   "outputs": [
    {
     "name": "stderr",
     "output_type": "stream",
     "text": [
      "WARNING: Logging before flag parsing goes to stderr.\n",
      "W0104 23:18:44.169819 4321239936 deprecation_wrapper.py:119] From /Library/Frameworks/Python.framework/Versions/3.5/lib/python3.5/site-packages/keras/backend/tensorflow_backend.py:4070: The name tf.nn.max_pool is deprecated. Please use tf.nn.max_pool2d instead.\n",
      "\n",
      "W0104 23:18:47.503393 4321239936 deprecation_wrapper.py:119] From /Library/Frameworks/Python.framework/Versions/3.5/lib/python3.5/site-packages/keras/backend/tensorflow_backend.py:422: The name tf.global_variables is deprecated. Please use tf.compat.v1.global_variables instead.\n",
      "\n"
     ]
    },
    {
     "name": "stdout",
     "output_type": "stream",
     "text": [
      "Model: \"model_2\"\n",
      "_________________________________________________________________\n",
      "Layer (type)                 Output Shape              Param #   \n",
      "=================================================================\n",
      "input_4 (InputLayer)         (None, 96, 96, 3)         0         \n",
      "_________________________________________________________________\n",
      "conv2d_25 (Conv2D)           (None, 96, 96, 16)        448       \n",
      "_________________________________________________________________\n",
      "leaky_re_lu_25 (LeakyReLU)   (None, 96, 96, 16)        0         \n",
      "_________________________________________________________________\n",
      "conv2d_26 (Conv2D)           (None, 96, 96, 32)        4640      \n",
      "_________________________________________________________________\n",
      "leaky_re_lu_26 (LeakyReLU)   (None, 96, 96, 32)        0         \n",
      "_________________________________________________________________\n",
      "batch_normalization_17 (Batc (None, 96, 96, 32)        128       \n",
      "_________________________________________________________________\n",
      "conv2d_27 (Conv2D)           (None, 48, 48, 64)        18496     \n",
      "_________________________________________________________________\n",
      "leaky_re_lu_27 (LeakyReLU)   (None, 48, 48, 64)        0         \n",
      "_________________________________________________________________\n",
      "batch_normalization_18 (Batc (None, 48, 48, 64)        256       \n",
      "_________________________________________________________________\n",
      "max_pooling2d_7 (MaxPooling2 (None, 24, 24, 64)        0         \n",
      "_________________________________________________________________\n",
      "conv2d_28 (Conv2D)           (None, 12, 12, 128)       73856     \n",
      "_________________________________________________________________\n",
      "leaky_re_lu_28 (LeakyReLU)   (None, 12, 12, 128)       0         \n",
      "_________________________________________________________________\n",
      "batch_normalization_19 (Batc (None, 12, 12, 128)       512       \n",
      "_________________________________________________________________\n",
      "max_pooling2d_8 (MaxPooling2 (None, 6, 6, 128)         0         \n",
      "_________________________________________________________________\n",
      "conv2d_29 (Conv2D)           (None, 6, 6, 64)          73792     \n",
      "_________________________________________________________________\n",
      "leaky_re_lu_29 (LeakyReLU)   (None, 6, 6, 64)          0         \n",
      "_________________________________________________________________\n",
      "batch_normalization_20 (Batc (None, 6, 6, 64)          256       \n",
      "_________________________________________________________________\n",
      "conv2d_30 (Conv2D)           (None, 6, 6, 32)          2080      \n",
      "_________________________________________________________________\n",
      "leaky_re_lu_30 (LeakyReLU)   (None, 6, 6, 32)          0         \n",
      "_________________________________________________________________\n",
      "conv2d_31 (Conv2D)           (None, 6, 6, 64)          18496     \n",
      "_________________________________________________________________\n",
      "leaky_re_lu_31 (LeakyReLU)   (None, 6, 6, 64)          0         \n",
      "_________________________________________________________________\n",
      "batch_normalization_21 (Batc (None, 6, 6, 64)          256       \n",
      "_________________________________________________________________\n",
      "up_sampling2d_3 (UpSampling2 (None, 12, 12, 64)        0         \n",
      "_________________________________________________________________\n",
      "conv2d_transpose_3 (Conv2DTr (None, 24, 24, 128)       73856     \n",
      "_________________________________________________________________\n",
      "leaky_re_lu_32 (LeakyReLU)   (None, 24, 24, 128)       0         \n",
      "_________________________________________________________________\n",
      "batch_normalization_22 (Batc (None, 24, 24, 128)       512       \n",
      "_________________________________________________________________\n",
      "up_sampling2d_4 (UpSampling2 (None, 48, 48, 128)       0         \n",
      "_________________________________________________________________\n",
      "conv2d_transpose_4 (Conv2DTr (None, 96, 96, 64)        73792     \n",
      "_________________________________________________________________\n",
      "leaky_re_lu_33 (LeakyReLU)   (None, 96, 96, 64)        0         \n",
      "_________________________________________________________________\n",
      "batch_normalization_23 (Batc (None, 96, 96, 64)        256       \n",
      "_________________________________________________________________\n",
      "conv2d_32 (Conv2D)           (None, 96, 96, 32)        18464     \n",
      "_________________________________________________________________\n",
      "leaky_re_lu_34 (LeakyReLU)   (None, 96, 96, 32)        0         \n",
      "_________________________________________________________________\n",
      "batch_normalization_24 (Batc (None, 96, 96, 32)        128       \n",
      "_________________________________________________________________\n",
      "conv2d_33 (Conv2D)           (None, 96, 96, 16)        4624      \n",
      "_________________________________________________________________\n",
      "leaky_re_lu_35 (LeakyReLU)   (None, 96, 96, 16)        0         \n",
      "_________________________________________________________________\n",
      "conv2d_34 (Conv2D)           (None, 96, 96, 3)         435       \n",
      "_________________________________________________________________\n",
      "leaky_re_lu_36 (LeakyReLU)   (None, 96, 96, 3)         0         \n",
      "=================================================================\n",
      "Total params: 365,283\n",
      "Trainable params: 364,131\n",
      "Non-trainable params: 1,152\n",
      "_________________________________________________________________\n"
     ]
    }
   ],
   "source": [
    "autoencoder = load_model('Autoencoders/SavedModels/autoencoder_train_epochs100_batch32_best.h5')\n",
    "autoencoder.summary()"
   ]
  },
  {
   "cell_type": "code",
   "execution_count": 8,
   "metadata": {},
   "outputs": [
    {
     "name": "stdout",
     "output_type": "stream",
     "text": [
      "(9999, 6, 6, 32)\n"
     ]
    },
    {
     "data": {
      "text/plain": [
       "Text(0.5, 1.0, 'Normal')"
      ]
     },
     "execution_count": 8,
     "metadata": {},
     "output_type": "execute_result"
    },
    {
     "data": {
      "image/png": "[encoded data removed]",
      "text/plain": [
       "<Figure size 1080x360 with 2 Axes>"
      ]
     },
     "metadata": {
      "needs_background": "light"
     },
     "output_type": "display_data"
    }
   ],
   "source": [
    "layer_name = 'conv2d_30'\n",
    "intermediate_layer_model = Model(inputs=autoencoder.input, outputs=autoencoder.get_layer(layer_name).output)\n",
    "\n",
    "X = intermediate_layer_model.predict(meanMatrix)\n",
    "print(X.shape)\n",
    "\n",
    "fig, axs = plt.subplots(1, 2, figsize=(15, 5))\n",
    "axs[0].scatter(X[:, 0], X[:, 1], cmap='viridis');\n",
    "axs[0].set_title('Normal')\n",
    "\n",
    "X = X.reshape((n_images, -1))\n",
    "print(X.shape)\n",
    "axs[1].scatter(X[:, 0], X[:, 1], cmap='viridis');\n",
    "axs[1].set_title('Normal Reshaped')"
   ]
  },
  {
   "cell_type": "code",
   "execution_count": 13,
   "metadata": {},
   "outputs": [
    {
     "data": {
      "text/plain": [
       "(9999, 6, 6, 32)"
      ]
     },
     "execution_count": 13,
     "metadata": {},
     "output_type": "execute_result"
    }
   ],
   "source": [
    "decoded_imgs = intermediate_layer_model.predict(meanMatrix)\n",
    "# X[0].shape.reshape((-1,-1,3))\n",
    "decoded_imgs.shape"
   ]
  },
  {
   "cell_type": "code",
   "execution_count": null,
   "metadata": {},
   "outputs": [
    {
     "name": "stdout",
     "output_type": "stream",
     "text": [
      "HC Silhouette Score  0.2680744528770447 \n",
      "kmeans Silhouette Score  0.29120633006095886 \n"
     ]
    }
   ],
   "source": [
    "labels = ClusterAndPlot(4)"
   ]
  },
  {
   "cell_type": "code",
   "execution_count": 12,
   "metadata": {},
   "outputs": [
    {
     "data": {
      "text/plain": [
       "(9999, 1152)"
      ]
     },
     "execution_count": 12,
     "metadata": {},
     "output_type": "execute_result"
    }
   ],
   "source": [
    "X.shape"
   ]
  },
  {
   "cell_type": "code",
   "execution_count": 20,
   "metadata": {},
   "outputs": [],
   "source": [
    "def symlink_rel(src, dst):\n",
    "    rel_path_src = os.path.relpath(src, os.path.dirname(dst))\n",
    "    os.symlink(rel_path_src, dst)\n",
    "\n",
    "def clusterintoDirectories(labels):\n",
    "    directory = trainData\n",
    "    sub_directories = [str(cluster) for cluster in set(labels)]\n",
    "\n",
    "    for filename in os.listdir(directory):\n",
    "        if filename.endswith('.tif'):\n",
    "            for cluster in sub_directories: # count of distinct elements = no. of clusters\n",
    "                os.makedirs(directory + '/{}'.format(cluster) , exist_ok=True)\n",
    "\n",
    "    for i in range(len(image_names)):\n",
    "        # if there isnt already a symlink of this image in the coressponding subdirectory\n",
    "        if image_names[i] not in os.listdir(directory + '/' + sub_directories[labels[i]]): \n",
    "            symlink_rel(directory + '/{}'.format(image_names[i]) , \n",
    "                       directory + '/{}'.format(labels[i]) + '/' + image_names[i])\n",
    "\n",
    "HC = AgglomerativeClustering(n_clusters=10, affinity='manhattan', linkage='complete').fit(X)\n",
    "clusterintoDirectories(HC.labels_)\n",
    "# clusterintoDirectories(kmeans.labels_)\n",
    "# clusterintoDirectories(gmmlabels_)"
   ]
  },
  {
   "cell_type": "code",
   "execution_count": null,
   "metadata": {},
   "outputs": [],
   "source": []
  }
 ],
 "metadata": {
  "kernelspec": {
   "display_name": "Python 3.5",
   "language": "python",
   "name": "python3"
  },
  "language_info": {
   "codemirror_mode": {
    "name": "ipython",
    "version": 3
   },
   "file_extension": ".py",
   "mimetype": "text/x-python",
   "name": "python",
   "nbconvert_exporter": "python",
   "pygments_lexer": "ipython3",
   "version": "3.5.0"
  }
 },
 "nbformat": 4,
 "nbformat_minor": 2
}
