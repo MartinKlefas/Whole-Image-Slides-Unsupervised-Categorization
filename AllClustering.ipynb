{
 "cells": [
  {
   "cell_type": "code",
   "execution_count": 1,
   "metadata": {},
   "outputs": [
    {
     "name": "stderr",
     "output_type": "stream",
     "text": [
      "Using TensorFlow backend.\n"
     ]
    }
   ],
   "source": [
    "# Basics\n",
    "import numpy as np\n",
    "import os \n",
    "import pandas as pd\n",
    "\n",
    "# Image Loading\n",
    "from PIL import Image\n",
    "import matplotlib.pyplot as plt \n",
    "import matplotlib.gridspec as gridspec\n",
    "%matplotlib inline\n",
    "\n",
    "# Evaluation\n",
    "from sklearn import metrics\n",
    "\n",
    "# Data preprocessing\n",
    "from sklearn.preprocessing import normalize, StandardScaler\n",
    "\n",
    "# Dimensionality Reduction\n",
    "from sklearn.manifold import TSNE                   # 1) T-SNE\n",
    "from sklearn.decomposition import PCA               # 2) PCA\n",
    "\n",
    "# Clustering\n",
    "from sklearn.cluster import AgglomerativeClustering # 1) Agglomerative-Hierarchical\n",
    "from sklearn.cluster import KMeans                  # 2) K-Means\n",
    "from sklearn.mixture import GaussianMixture         # 3) Gaussian Mixture Models\n",
    "\n",
    "# Load Autoencoder                                  # 3) Autoencoder (Deep dimensionality reduction)\n",
    "from keras.models import load_model\n",
    "from keras.models import Model\n"
   ]
  },
  {
   "cell_type": "code",
   "execution_count": 2,
   "metadata": {},
   "outputs": [],
   "source": [
    "## Data loading, and standardizing\n",
    "\n",
    "trainData = \"../Data/train\" # 10k images //  96 x 96 x 3\n",
    "\n",
    "\n",
    "new_train = []\n",
    "image_names = []\n",
    "\n",
    "# Test on 1000 images\n",
    "for filename in os.listdir(trainData):\n",
    "    if filename.endswith('.tif'):\n",
    "        image = Image.open(os.path.join(trainData, filename)) \n",
    "        new_train.append(np.asarray( image, dtype=\"uint8\" ))\n",
    "        image_names.append(filename)\n",
    "\n",
    "meanMatrix = np.asarray(new_train)\n",
    "X = meanMatrix.reshape((len(new_train),-1))\n",
    "scaler = StandardScaler()\n",
    "X = scaler.fit_transform(X)\n"
   ]
  },
  {
   "cell_type": "code",
   "execution_count": 3,
   "metadata": {},
   "outputs": [],
   "source": [
    "def ClusterAndPlot(n_clusters):\n",
    "    Labels = []\n",
    "    \n",
    "    print(X.shape)\n",
    "    HC = AgglomerativeClustering(n_clusters=n_clusters, affinity='euclidean', linkage='ward').fit(X)\n",
    "    print('HC Silhouette Score  {} '.format(metrics.silhouette_score(X, HC.labels_)))\n",
    "\n",
    "    kmeans = KMeans(n_clusters=n_clusters, random_state=0).fit(X)\n",
    "    print('kmeans Silhouette Score  {} '.format(metrics.silhouette_score(X, kmeans.labels_)))\n",
    "\n",
    "    gmm = GaussianMixture(n_components=n_clusters, covariance_type='full').fit(X)\n",
    "    gmmlabels_ = gmm.predict(X)\n",
    "    print('gmm Silhouette Score  {} '.format(metrics.silhouette_score(X, gmmlabels_)))\n",
    "    \n",
    "    fig, axs = plt.subplots(2, 2, figsize=(13, 7))\n",
    "    axs[0, 0].scatter(X[:, 0], X[:, 1], cmap='viridis')\n",
    "    axs[0, 0].set_title('Normal')\n",
    "\n",
    "    axs[0, 1].scatter(X[:, 0], X[:, 1], c=gmmlabels_, cmap='viridis')\n",
    "    axs[0, 1].set_title('GMM')\n",
    "\n",
    "    axs[1, 0].scatter(X[:, 0], X[:, 1], c=kmeans.labels_, cmap='viridis')\n",
    "    axs[1, 0].set_title('K-Means')\n",
    "\n",
    "    axs[1, 1].scatter(X[:, 0], X[:, 1], c=HC.labels_, cmap='viridis')\n",
    "    axs[1, 1].set_title('HC')\n",
    "    plt.show()\n",
    "    \n",
    "    Labels.append(HC.labels_)\n",
    "    Labels.append(kmeans.labels_)\n",
    "    Labels.append(gmmlabels_)\n",
    "    return Labels\n"
   ]
  },
  {
   "cell_type": "code",
   "execution_count": 4,
   "metadata": {},
   "outputs": [],
   "source": [
    "def pltPathologyClusters(labels):\n",
    "    clusterimgDir = \"../Data/clusters_journal.PNG\"\n",
    "    image = Image.open(clusterimgDir) \n",
    "    plt.figure(figsize = (80,10))\n",
    "    plt.imshow(image)\n",
    "    plt.axis('off')\n",
    "    \n",
    "    sub_directories = [str(cluster) for cluster in set(labels)]\n",
    "    displayImages = []\n",
    "    \n",
    "    for cluster in sub_directories:\n",
    "        direct = trainData + '/{}'.format(cluster)\n",
    "        index = np.random.randint(0,len(os.listdir(direct)))\n",
    "        for file in os.listdir(direct)[index:index+9]: # random sample of 9 images\n",
    "            if file.endswith('.tif'):\n",
    "                image = Image.open(os.path.join(direct, file)) \n",
    "                displayImages.append(np.asarray( image, dtype=\"uint8\" ))\n",
    "    \n",
    "    fig = plt.figure(figsize=(14, 14))\n",
    "    \n",
    "    columns = 9\n",
    "    rows = len(sub_directories)\n",
    "    print(columns*rows+1)\n",
    "    j = 0\n",
    "    for i in range(1, columns*rows+1):\n",
    "        img = displayImages[j]\n",
    "        j+=1\n",
    "        fig.add_subplot(rows, columns, i)\n",
    "        plt.imshow(img)\n",
    "        plt.text(rows, columns, \"ss\")\n",
    "        plt.axis('off')\n",
    "        plt.subplots_adjust(wspace=0.0, hspace=0.0)\n",
    "    plt.show()\n",
    "    \n"
   ]
  },
  {
   "cell_type": "code",
   "execution_count": 5,
   "metadata": {},
   "outputs": [
    {
     "data": {
      "text/plain": [
       "(9999, 27648)"
      ]
     },
     "execution_count": 5,
     "metadata": {},
     "output_type": "execute_result"
    }
   ],
   "source": [
    "n_images = X.shape[0]\n",
    "X.shape"
   ]
  },
  {
   "cell_type": "code",
   "execution_count": 6,
   "metadata": {},
   "outputs": [],
   "source": [
    "# STEP 1 : Cluster on the full dimensional space"
   ]
  },
  {
   "cell_type": "code",
   "execution_count": 7,
   "metadata": {},
   "outputs": [],
   "source": [
    "# STEP 2 : Reduce the full dimensional space using PCA & t-SNE -> Cluster"
   ]
  },
  {
   "cell_type": "code",
   "execution_count": 8,
   "metadata": {},
   "outputs": [
    {
     "name": "stdout",
     "output_type": "stream",
     "text": [
      "(9999, 27648)\n",
      "(9999, 50)\n",
      "(9999, 2)\n"
     ]
    },
    {
     "data": {
      "text/plain": [
       "Text(0.5, 1.0, 'TSNE')"
      ]
     },
     "execution_count": 8,
     "metadata": {},
     "output_type": "execute_result"
    },
    {
     "data": {
      "image/png": "[encoded data removed]",
      "text/plain": [
       "<Figure size 1440x360 with 3 Axes>"
      ]
     },
     "metadata": {
      "needs_background": "light"
     },
     "output_type": "display_data"
    }
   ],
   "source": [
    "# reduce dimensions then cluster\n",
    "fig, axs = plt.subplots(1, 3, figsize=(20, 5))\n",
    "print(X.shape)\n",
    "axs[0].scatter(X[:, 0], X[:, 1], cmap='viridis');\n",
    "axs[0].set_title('Normal')\n",
    "\n",
    "# PCA \n",
    "pca = PCA(n_components=50)\n",
    "X = pca.fit_transform(X)\n",
    "print(X.shape)\n",
    "\n",
    "axs[1].scatter(X[:, 0], X[:, 1], cmap='viridis');\n",
    "axs[1].set_title('PCA')\n",
    "\n",
    "tsne = TSNE(n_components=2)\n",
    "X = tsne.fit_transform(X)\n",
    "print(X2.shape)\n",
    "\n",
    "axs[2].scatter(X[:, 0], X[:, 1], cmap='viridis');\n",
    "axs[2].set_title('TSNE')"
   ]
  },
  {
   "cell_type": "code",
   "execution_count": null,
   "metadata": {},
   "outputs": [
    {
     "name": "stdout",
     "output_type": "stream",
     "text": [
      "(9999, 27648)\n"
     ]
    }
   ],
   "source": [
    "Labels = ClusterAndPlot(9)"
   ]
  },
  {
   "cell_type": "code",
   "execution_count": null,
   "metadata": {},
   "outputs": [],
   "source": [
    "# Step 3: Reduce the full dimensional space using autoencoders -> Cluster\n",
    "meanMatrix.shape"
   ]
  },
  {
   "cell_type": "code",
   "execution_count": null,
   "metadata": {},
   "outputs": [],
   "source": [
    "# autoencoder = load_model('Autoencoders/SavedModels/fulldata_checkpoint_epochs10000_batch32_adam.h5') # 6 x 6 x 16\n",
    "# autoencoder = load_model('Autoencoders/SavedModels/autoencoder_train_epochs100_batch32_best.h5') # 6 x 6 x 32\n",
    "autoencoder = load_model('Autoencoders/SavedModels/mean_squared_error_epochs300_batch64.h5') # Regression with 32\n",
    "autoencoder.summary()"
   ]
  },
  {
   "cell_type": "code",
   "execution_count": null,
   "metadata": {},
   "outputs": [],
   "source": [
    "# Evaluate regression\n",
    "csvFilePath = \"../Data/regrData/train_labels.csv\"\n",
    "df = pd.read_csv(csvFilePath)\n",
    "testlabels = []\n",
    "\n",
    "for image in image_names:\n",
    "    label_index = df[df[\"id\"] == image.split(\".\")[0]].index[0]\n",
    "    testlabels.append(df[\"label\"][label_index])\n",
    "    \n",
    "def evaluateRegression():\n",
    "    labels_pred = autoencoder.predict(meanMatrix)[1]\n",
    "    for i in range(len(labels_pred)):\n",
    "        if labels_pred[i] < 0.5:\n",
    "            labels_pred[i] = 0\n",
    "        else:\n",
    "            labels_pred[i] = 1\n",
    "\n",
    "    evaluation = metrics.classification_report(testlabels, labels_pred)\n",
    "    print(evaluation)\n"
   ]
  },
  {
   "cell_type": "code",
   "execution_count": null,
   "metadata": {},
   "outputs": [],
   "source": [
    "evaluateRegression()"
   ]
  },
  {
   "cell_type": "code",
   "execution_count": null,
   "metadata": {},
   "outputs": [],
   "source": [
    "layer_name = 'conv2d_115'\n",
    "intermediate_layer_model = Model(inputs=autoencoder.input, outputs=autoencoder.get_layer(layer_name).output)\n",
    "\n",
    "X = intermediate_layer_model.predict(meanMatrix)\n",
    "print(X.shape)\n",
    "\n",
    "fig, axs = plt.subplots(1, 2, figsize=(15, 5))\n",
    "axs[0].scatter(X[:, 0], X[:, 1], cmap='viridis');\n",
    "axs[0].set_title('Normal')\n",
    "\n",
    "X = X.reshape((n_images, -1))\n",
    "print(X.shape)\n",
    "axs[1].scatter(X[:, 0], X[:, 1], cmap='viridis');\n",
    "axs[1].set_title('Normal Reshaped')"
   ]
  },
  {
   "cell_type": "code",
   "execution_count": null,
   "metadata": {},
   "outputs": [],
   "source": [
    "Labels = ClusterAndPlot(9)"
   ]
  },
  {
   "cell_type": "code",
   "execution_count": null,
   "metadata": {},
   "outputs": [],
   "source": [
    "pltPathologyClusters(Labels[1])"
   ]
  },
  {
   "cell_type": "code",
   "execution_count": null,
   "metadata": {},
   "outputs": [],
   "source": [
    "# STEP 4: Reduce the full dimensional space using autoencoders -> PCA&t-SNE -> Cluster"
   ]
  },
  {
   "cell_type": "code",
   "execution_count": null,
   "metadata": {},
   "outputs": [],
   "source": [
    "# reduce dimensions then cluster\n",
    "fig, axs = plt.subplots(1, 3, figsize=(20, 5))\n",
    "print(X.shape)\n",
    "axs[0].scatter(X[:, 0], X[:, 1], cmap='viridis');\n",
    "axs[0].set_title('Normal')\n",
    "\n",
    "# # PCA \n",
    "# pca = PCA(n_components=50)\n",
    "# X = pca.fit_transform(X)\n",
    "# print(X.shape)\n",
    "\n",
    "# axs[1].scatter(X[:, 0], X[:, 1], cmap='viridis');\n",
    "# axs[1].set_title('PCA')\n",
    "\n",
    "tsne = TSNE(n_components=2, perplexity=350)\n",
    "X = tsne.fit_transform(X)\n",
    "print(X.shape)\n",
    "\n",
    "axs[2].scatter(X[:, 0], X[:, 1], cmap='viridis');\n",
    "axs[2].set_title('TSNE')"
   ]
  },
  {
   "cell_type": "code",
   "execution_count": null,
   "metadata": {},
   "outputs": [],
   "source": [
    "fig, axs = plt.subplots(2, 2, figsize=(13, 7))\n",
    "\n",
    "tsne1 = TSNE(n_components=2, perplexity=5)\n",
    "tsne1data = tsne.fit_transform(X)\n",
    "\n",
    "axs[0, 0].scatter(tsne1data[:, 0], tsne1data[:, 1], cmap='viridis');\n",
    "axs[0, 0].set_title('tsne1data')\n",
    "\n",
    "tsne2 = TSNE(n_components=2, perplexity=15)\n",
    "tsne2data = tsne.fit_transform(X)\n",
    "\n",
    "axs[0, 1].scatter(tsne2data[:, 0], tsne2data[:, 1], cmap='viridis');\n",
    "axs[0, 1].set_title('tsne2data')\n",
    "\n",
    "tsne3 = TSNE(n_components=2, perplexity=30)\n",
    "tsne3data = tsne.fit_transform(X)\n",
    "\n",
    "axs[1, 0].scatter(tsne3data[:, 0], tsne3data[:, 1], cmap='viridis');\n",
    "axs[1, 0].set_title('tsne3data')\n",
    "\n",
    "tsne4 = TSNE(n_components=2, perplexity=50)\n",
    "tsne4data = tsne.fit_transform(X)\n",
    "\n",
    "axs[1, 1].scatter(tsne4data[:, 0], tsne4data[:, 1], cmap='viridis');\n",
    "axs[1, 1].set_title('tsne4data')"
   ]
  },
  {
   "cell_type": "code",
   "execution_count": null,
   "metadata": {},
   "outputs": [],
   "source": [
    "def symlink_rel(src, dst):\n",
    "    rel_path_src = os.path.relpath(src, os.path.dirname(dst))\n",
    "    os.symlink(rel_path_src, dst)\n",
    "\n",
    "def clusterintoDirectories(labels):\n",
    "    directory = trainData\n",
    "    sub_directories = [str(cluster) for cluster in set(labels)]\n",
    "\n",
    "    for filename in os.listdir(directory):\n",
    "        if filename.endswith('.tif'):\n",
    "            for cluster in sub_directories: # count of distinct elements = no. of clusters\n",
    "                os.makedirs(directory + '/{}'.format(cluster) , exist_ok=True)\n",
    "\n",
    "    for i in range(len(image_names)):\n",
    "        # if there isnt already a symlink of this image in the coressponding subdirectory\n",
    "        if image_names[i] not in os.listdir(directory + '/' + sub_directories[labels[i]]): \n",
    "            symlink_rel(directory + '/{}'.format(image_names[i]) , \n",
    "                       directory + '/{}'.format(labels[i]) + '/' + image_names[i])\n",
    "\n",
    "kmeans = KMeans(n_clusters=9, random_state=0).fit(X)\n",
    "# clusterintoDirectories(HC.labels_)\n",
    "clusterintoDirectories(kmeans.labels_)\n",
    "# clusterintoDirectories(gmmlabels_)"
   ]
  },
  {
   "cell_type": "code",
   "execution_count": null,
   "metadata": {},
   "outputs": [],
   "source": []
  }
 ],
 "metadata": {
  "kernelspec": {
   "display_name": "Python 3.5",
   "language": "python",
   "name": "python3"
  },
  "language_info": {
   "codemirror_mode": {
    "name": "ipython",
    "version": 3
   },
   "file_extension": ".py",
   "mimetype": "text/x-python",
   "name": "python",
   "nbconvert_exporter": "python",
   "pygments_lexer": "ipython3",
   "version": "3.5.0"
  }
 },
 "nbformat": 4,
 "nbformat_minor": 2
}
