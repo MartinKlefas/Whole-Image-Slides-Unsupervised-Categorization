{
 "cells": [
  {
   "cell_type": "code",
   "execution_count": 3,
   "metadata": {},
   "outputs": [],
   "source": [
    "import numpy as np\n",
    "import os\n",
    "import math\n",
    "from PIL import Image\n",
    "import pandas as pd\n",
    "\n",
    "# Load Autoencoder                                  # 3) Autoencoder (Deep dimensionality reduction)\n",
    "from keras.models import load_model\n",
    "from keras.models import Model\n",
    "\n",
    "from sklearn.preprocessing import StandardScaler\n",
    "\n",
    "import matplotlib.pyplot as plt \n",
    "%matplotlib inline"
   ]
  },
  {
   "cell_type": "code",
   "execution_count": 4,
   "metadata": {},
   "outputs": [],
   "source": [
    "## Data loading, and standardizing\n",
    "trainData = \"../../../ML/Data/Kaggle-original/test\"\n",
    "\n",
    "new_train = []\n",
    "image_names = []\n",
    "\n",
    "# Test on 1000 images\n",
    "for filename in os.listdir(trainData):\n",
    "    if filename.endswith('.tif'):\n",
    "        image = Image.open(os.path.join(trainData, filename)) \n",
    "        new_train.append(np.asarray( image, dtype=\"uint8\" ))\n",
    "        image_names.append(filename)\n",
    "\n",
    "meanMatrix = np.asarray(new_train)"
   ]
  },
  {
   "cell_type": "code",
   "execution_count": 5,
   "metadata": {},
   "outputs": [],
   "source": [
    "autoencoder = load_model('../Autoencoders/SavedModels/new_mean_squared_error_epochs300_batch64.h5') # 6 x 6 x 16\n",
    "# autoencoder.summary()"
   ]
  },
  {
   "cell_type": "code",
   "execution_count": 7,
   "metadata": {},
   "outputs": [],
   "source": [
    "meanMatrix = meanMatrix.astype('float32') / 255.\n",
    "labels_pred = autoencoder.predict(meanMatrix)[1]\n"
   ]
  },
  {
   "cell_type": "code",
   "execution_count": 8,
   "metadata": {},
   "outputs": [],
   "source": [
    "for i in range(len(labels_pred)):\n",
    "    if labels_pred[i] < 0.5:\n",
    "        labels_pred[i] = 0\n",
    "    else:\n",
    "        labels_pred[i] = 1"
   ]
  },
  {
   "cell_type": "code",
   "execution_count": 10,
   "metadata": {},
   "outputs": [
    {
     "data": {
      "text/plain": [
       "57458"
      ]
     },
     "execution_count": 10,
     "metadata": {},
     "output_type": "execute_result"
    }
   ],
   "source": [
    "len(image_names)"
   ]
  },
  {
   "cell_type": "code",
   "execution_count": 11,
   "metadata": {},
   "outputs": [
    {
     "data": {
      "text/plain": [
       "(57458, 1)"
      ]
     },
     "execution_count": 11,
     "metadata": {},
     "output_type": "execute_result"
    }
   ],
   "source": [
    "labels_pred.shape"
   ]
  },
  {
   "cell_type": "code",
   "execution_count": 17,
   "metadata": {},
   "outputs": [],
   "source": [
    "labels_list = []\n",
    "\n",
    "for label in labels_pred:\n",
    "    labels_list.append(int(label))"
   ]
  },
  {
   "cell_type": "code",
   "execution_count": 20,
   "metadata": {},
   "outputs": [],
   "source": [
    "d = {'id': [image.split('.')[0] for image in image_names], 'label': labels_list}\n",
    "df_new = pd.DataFrame(data=d)\n",
    "\n",
    "\n",
    "# print(df_new)\n",
    "df_new.to_csv(r'../../../ML/Data/Kaggle-original/submission.csv')\n"
   ]
  },
  {
   "cell_type": "code",
   "execution_count": null,
   "metadata": {},
   "outputs": [],
   "source": [
    "# kaggle competitions submit -c histopathologic-cancer-detection -f submission.csv -m \"Message\""
   ]
  }
 ],
 "metadata": {
  "kernelspec": {
   "display_name": "Python 3.6",
   "language": "python",
   "name": "python3.6"
  },
  "language_info": {
   "codemirror_mode": {
    "name": "ipython",
    "version": 3
   },
   "file_extension": ".py",
   "mimetype": "text/x-python",
   "name": "python",
   "nbconvert_exporter": "python",
   "pygments_lexer": "ipython3",
   "version": "3.6.2"
  }
 },
 "nbformat": 4,
 "nbformat_minor": 2
}
